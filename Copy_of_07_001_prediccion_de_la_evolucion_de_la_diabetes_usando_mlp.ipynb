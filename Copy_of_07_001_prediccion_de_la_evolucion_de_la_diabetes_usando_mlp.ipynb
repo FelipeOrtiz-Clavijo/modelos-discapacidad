{
  "cells": [
    {
      "cell_type": "markdown",
      "metadata": {
        "id": "wJnZEtqYLQPc"
      },
      "source": [
        "Predicción de la evolución de la diabetes en pacientes usando MLP\n",
        "==="
      ]
    },
    {
      "cell_type": "markdown",
      "metadata": {
        "id": "2n9SoW8yLQPp"
      },
      "source": [
        "Se desea construir um modelo de regresión no lineal (redes neuronales artificiales) que permita pronósticar el progreso de la diabetes con un horizonte de doce meses con base en variables físicas y pruebas de laboratorio. Véase https://www4.stat.ncsu.edu/~boos/var.select/diabetes.html"
      ]
    },
    {
      "cell_type": "markdown",
      "metadata": {
        "id": "8jAhwS75LQPr"
      },
      "source": [
        "En este problema se tiene una base de datos de diez variables base (edad, sexo, índice de masa corporal, presión arterial, y seis variables medidas en sangre) para 442 pacientes, y un índice que mide el progreso de la diabetes un año después de la prueba. La columna Y es la variable explicada."
      ]
    },
    {
      "cell_type": "code",
      "execution_count": 1,
      "metadata": {
        "id": "k_2DI7USLQPt",
        "colab": {
          "base_uri": "https://localhost:8080/"
        },
        "outputId": "f217df42-6824-443b-ad27-47dec35f0aa7"
      },
      "outputs": [
        {
          "output_type": "stream",
          "name": "stdout",
          "text": [
            "Index(['age', 'sex', 'bmi', 'bp', 's1', 's2', 's3', 's4', 's5', 's6',\n",
            "       'target'],\n",
            "      dtype='object')\n"
          ]
        }
      ],
      "source": [
        "#\n",
        "# La muestra se encuentra dividida en tres partes:\n",
        "#\n",
        "#   * X_train, y_true_train: es la muestra para estimar los parametros optimos\n",
        "#\n",
        "#   * X_test, y_true_test: es la muestra para seleccionar la mejor configuración\n",
        "#\n",
        "#   * X_val, y_true_val: es la muestra para probar el modelo en productivo\n",
        "#\n",
        "import warnings\n",
        "\n",
        "import pandas as pd\n",
        "import pytest\n",
        "from sklearn.neural_network import MLPRegressor\n",
        "from sklearn.metrics import mean_squared_error\n",
        "\n",
        "warnings.filterwarnings(\"ignore\")\n",
        "\n",
        "df = pd.read_csv(\"https://raw.githubusercontent.com/jdvelasq/datalabs/master/datasets/diabetes.csv\")\n",
        "print(df.columns)\n",
        "y_true = df.pop('target')\n",
        "y_true_fit = df[:350]\n",
        "y_true_test = df[350:400]\n",
        "y_true_val = df[400:]\n",
        "\n",
        "X_fit = df[:350]\n",
        "X_test = df[350:400]\n",
        "X_val = df[400:]\n",
        "\n"
      ]
    },
    {
      "cell_type": "code",
      "execution_count": 2,
      "metadata": {
        "id": "Pin5qabrLQP0",
        "colab": {
          "base_uri": "https://localhost:8080/"
        },
        "outputId": "f46dd1dc-b089-4de1-ff9f-df1ea6a709cf"
      },
      "outputs": [
        {
          "output_type": "stream",
          "name": "stdout",
          "text": [
            "MSE validation set: 0.00022904341477834474\n"
          ]
        },
        {
          "output_type": "execute_result",
          "data": {
            "text/plain": [
              "False"
            ]
          },
          "metadata": {},
          "execution_count": 2
        }
      ],
      "source": [
        "#\n",
        "# Use la muestra (X_train, y_true_train) para la estimación\n",
        "# de los pesos óptimos de la red neuronal.\n",
        "#\n",
        "# Seleccione el modelo óptimo como aquel que minimice el error\n",
        "# cuadrático medio para la muestra (X_test, y_true_test).\n",
        "#\n",
        "# Considere únicamente modelos desde una (1) hasta (5) \n",
        "# neuronas en la capa oculta. Considere únicamente las\n",
        "# siguientes semillas para inicializar la red neuronal\n",
        "# 1000, 1001, 1002, 1003, 1004, 1005.\n",
        "#\n",
        "# Compute el error cuadrático medio para la muestra\n",
        "# (X_val, y_true_val). Esta muestra representa la operación\n",
        "# del modelo en productio\n",
        "# \n",
        "# Rta/\n",
        "# True\n",
        "#\n",
        "\n",
        "# >>> Inserte su codigo aquí >>>\n",
        "from sklearn.model_selection import train_test_split\n",
        "\n",
        "seeds = [1000, 1001, 1002, 1003, 1004, 1005]\n",
        "mse_opt=float(\"inf\")\n",
        "hls_opt=0\n",
        "for hls in seeds:\n",
        "  reg = MLPRegressor(hidden_layer_sizes=hls).fit(X_fit, y_true_fit)\n",
        "  mse = mean_squared_error(y_true_test, reg.predict(X_test))\n",
        "  if mse < mse_opt:\n",
        "    mse_opt = mse\n",
        "    hls_opt = hls\n",
        "\n",
        "reg_opt = MLPRegressor(hidden_layer_sizes=hls_opt).fit(X_fit, y_true_fit)\n",
        "mse_val = mean_squared_error(y_true_val, reg_opt.predict(X_val))\n",
        "print('MSE validation set:', mse_val)\n",
        "\n",
        "# <<<\n",
        "\n",
        "# ---->>> Evaluación ---->>>\n",
        "pytest.approx(mse_val, 0.0001) == 0.009535"
      ]
    }
  ],
  "metadata": {
    "kernel_info": {
      "name": "python3"
    },
    "kernelspec": {
      "display_name": "Python 3",
      "language": "python",
      "name": "python3"
    },
    "language_info": {
      "codemirror_mode": {
        "name": "ipython",
        "version": 3
      },
      "file_extension": ".py",
      "mimetype": "text/x-python",
      "name": "python",
      "nbconvert_exporter": "python",
      "pygments_lexer": "ipython3",
      "version": "3.6.9"
    },
    "nteract": {
      "version": "0.7.1"
    },
    "varInspector": {
      "cols": {
        "lenName": 16,
        "lenType": 16,
        "lenVar": 40
      },
      "kernels_config": {
        "python": {
          "delete_cmd_postfix": "",
          "delete_cmd_prefix": "del ",
          "library": "var_list.py",
          "varRefreshCmd": "print(var_dic_list())"
        },
        "r": {
          "delete_cmd_postfix": ") ",
          "delete_cmd_prefix": "rm(",
          "library": "var_list.r",
          "varRefreshCmd": "cat(var_dic_list()) "
        }
      },
      "types_to_exclude": [
        "module",
        "function",
        "builtin_function_or_method",
        "instance",
        "_Feature"
      ],
      "window_display": false
    },
    "colab": {
      "name": "Copy of 07-001_prediccion_de_la_evolucion_de_la_diabetes_usando_mlp.ipynb",
      "provenance": []
    }
  },
  "nbformat": 4,
  "nbformat_minor": 0
}