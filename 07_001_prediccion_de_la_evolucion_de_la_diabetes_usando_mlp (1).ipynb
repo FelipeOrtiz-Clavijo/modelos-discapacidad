{
  "cells": [
    {
      "cell_type": "markdown",
      "metadata": {
        "id": "xjPbK00092uu"
      },
      "source": [
        "Prediction of the evolution of diabetes in patients using MLP\n",
        "==="
      ]
    },
    {
      "cell_type": "markdown",
      "metadata": {
        "id": "hLnKFpbZ92vJ"
      },
      "source": [
        "It is desired to build a nonlinear regression model (artificial neural networks) that allows predicting the progress of diabetes with a horizon of twelve months based on physical variables and laboratory tests. See https://www4.stat.ncsu.edu/~boos/var.select/diabetes.html"
      ]
    },
    {
      "cell_type": "markdown",
      "metadata": {
        "id": "jl8FgWcu92vL"
      },
      "source": [
        "In this problem, there is a database of ten base variables (age, sex, body mass index, blood pressure, and six variables measured in blood) for 442 patients, and an index that measures the progress of diabetes one year later. Of the test. Column Y is the explained variable."
      ]
    },
    {
      "cell_type": "code",
      "execution_count": 2,
      "metadata": {
        "id": "Kp5IIxk492vN",
        "colab": {
          "base_uri": "https://localhost:8080/"
        },
        "outputId": "7f56fdf9-514f-4a1d-a200-88cb1d28d325"
      },
      "outputs": [
        {
          "output_type": "stream",
          "name": "stdout",
          "text": [
            "Index(['age', 'sex', 'bmi', 'bp', 's1', 's2', 's3', 's4', 's5', 's6',\n",
            "       'target'],\n",
            "      dtype='object')\n"
          ]
        }
      ],
      "source": [
        "#\n",
        "# The sample is divided into three parts:\n",
        "#\n",
        "#   * X_train, y_true_train: is the sample to estimate the optimal parameters\n",
        "#\n",
        "#   * X_test, y_true_test: is the sample to select the best configuration\n",
        "#\n",
        "#   * X_val, y_true_val: is the sample to test the model in production\n",
        "#\n",
        "import warnings\n",
        "\n",
        "import pandas as pd\n",
        "import pytest\n",
        "from sklearn.neural_network import MLPRegressor\n",
        "from sklearn.metrics import mean_squared_error\n",
        "\n",
        "warnings.filterwarnings(\"ignore\")\n",
        "\n",
        "df = pd.read_csv(\"https://raw.githubusercontent.com/jdvelasq/datalabs/master/datasets/diabetes.csv\")\n",
        "print(df.columns)\n",
        "y_true = df.pop('target')\n",
        "y_true_fit = df[:350]\n",
        "y_true_test = df[350:400]\n",
        "y_true_val = df[400:]\n",
        "\n",
        "X_fit = df[:350]\n",
        "X_test = df[350:400]\n",
        "X_val = df[400:]"
      ]
    },
    {
      "cell_type": "code",
      "execution_count": 46,
      "metadata": {
        "id": "PzhVl6EK92vV",
        "colab": {
          "base_uri": "https://localhost:8080/"
        },
        "outputId": "fb3f03f7-53f4-4b48-a707-2b8f9a61450d"
      },
      "outputs": [
        {
          "output_type": "stream",
          "name": "stdout",
          "text": [
            "MSE validation set: 0.009535839389139395\n",
            "5\n"
          ]
        },
        {
          "output_type": "execute_result",
          "data": {
            "text/plain": [
              "True"
            ]
          },
          "metadata": {},
          "execution_count": 46
        }
      ],
      "source": [
        "#\n",
        "# Use the sample (X_train, y_true_train) for estimation\n",
        "# of the optimal weights of the neural network.\n",
        "#\n",
        "# Select the optimal model as the one that minimizes the error\n",
        "# root mean square for the sample (X_test, y_true_test).\n",
        "#\n",
        "# Consider only models from one (1) to (5)\n",
        "# neurons in the hidden layer. Consider only the\n",
        "# following seeds to initialize the neural network\n",
        "#1000, 1001, 1002, 1003, 1004, 1005.\n",
        "#\n",
        "# Compute the mean square error for the sample\n",
        "# (X_val, y_true_val). This sample represents the operation\n",
        "# of the model in production\n",
        "# \n",
        "# answer/\n",
        "# True\n",
        "#\n",
        "\n",
        "# >>> Inserte su codigo aquí >>>\n",
        "from sklearn.model_selection import train_test_split\n",
        "\n",
        "# df_x = df.drop(labels=['target'], axis=1)\n",
        "# df_x.head()\n",
        "# df_y = df['target']\n",
        "\n",
        "#The sizes of train/test/val sets are not specified in the exercise. Insert them here, and everything else should work properly.\n",
        "#X_train, X_test, y_true_train, y_true_test = train_test_split(df_x, df_y, test_size=0.25) \n",
        "#X_test, X_val, y_true_test, y_true_val = train_test_split(X_test, y_true_test, test_size=0.5)\n",
        "\n",
        "seeds = [1, 2, 3, 4, 5]\n",
        "mse_opt=float(\"inf\")\n",
        "hls_opt=0\n",
        "for hls in seeds:\n",
        "  reg = MLPRegressor(hidden_layer_sizes=(hls,),\n",
        "     activation=\"logistic\",     \n",
        "    learning_rate=\"adaptive\",\n",
        "    momentum=0.9,\n",
        "    learning_rate_init=0.01,\n",
        "    max_iter=1000,\n",
        "    random_state=1005).fit(X_fit, y_true_fit)#hidden_layer_sizes=(5,), activation=\"logistic\", solver=\"sgd\", random_state=0).fit(X_fit, y_true_fit)\n",
        "  mse = mean_squared_error(y_true_test, reg.predict(X_test))\n",
        "  if mse < mse_opt:\n",
        "    mse_opt = mse\n",
        "    hls_opt = hls\n",
        "\n",
        "\n",
        "reg_opt = MLPRegressor(hidden_layer_sizes=hls_opt, random_state=1005).fit(X_fit, y_true_fit)\n",
        "mse_val = mean_squared_error(y_true_val, reg_opt.predict(X_val))\n",
        "print('MSE validation set:', mse_val)\n",
        "print(hls_opt)\n",
        "# <<<\n",
        "\n",
        "# ---->>> Evaluación ---->>>\n",
        "pytest.approx(mse_val, 0.0001) == 0.009535"
      ]
    },
    {
      "cell_type": "code",
      "source": [
        ""
      ],
      "metadata": {
        "id": "3P8tWe4EAYMc"
      },
      "execution_count": null,
      "outputs": []
    }
  ],
  "metadata": {
    "kernel_info": {
      "name": "python3"
    },
    "kernelspec": {
      "display_name": "Python 3",
      "language": "python",
      "name": "python3"
    },
    "language_info": {
      "codemirror_mode": {
        "name": "ipython",
        "version": 3
      },
      "file_extension": ".py",
      "mimetype": "text/x-python",
      "name": "python",
      "nbconvert_exporter": "python",
      "pygments_lexer": "ipython3",
      "version": "3.6.9"
    },
    "nteract": {
      "version": "0.7.1"
    },
    "varInspector": {
      "cols": {
        "lenName": 16,
        "lenType": 16,
        "lenVar": 40
      },
      "kernels_config": {
        "python": {
          "delete_cmd_postfix": "",
          "delete_cmd_prefix": "del ",
          "library": "var_list.py",
          "varRefreshCmd": "print(var_dic_list())"
        },
        "r": {
          "delete_cmd_postfix": ") ",
          "delete_cmd_prefix": "rm(",
          "library": "var_list.r",
          "varRefreshCmd": "cat(var_dic_list()) "
        }
      },
      "types_to_exclude": [
        "module",
        "function",
        "builtin_function_or_method",
        "instance",
        "_Feature"
      ],
      "window_display": false
    },
    "colab": {
      "name": "Copy of 07-001_prediccion_de_la_evolucion_de_la_diabetes_usando_mlp.ipynb",
      "provenance": [],
      "collapsed_sections": []
    }
  },
  "nbformat": 4,
  "nbformat_minor": 0
}